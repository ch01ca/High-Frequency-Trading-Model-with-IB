{
 "cells": [
  {
   "cell_type": "code",
   "execution_count": null,
   "metadata": {},
   "outputs": [
    {
     "name": "stdout",
     "output_type": "stream",
     "text": [
      "Connecting on host: 192.168.0.20 port: 7496\n",
      "[2020-12-15 20:56:34]started\n",
      "Error 162, reqId 70: Historical Market Data Service error message:HMDS query returned no data: EUR.USD@IDEALPRO Midpoint, contract: Forex('EURUSD', exchange='IDEALPRO')\n",
      "Error 162, reqId 71: Historical Market Data Service error message:HMDS query returned no data: USD.JPY@IDEALPRO Midpoint, contract: Forex('USDJPY', exchange='IDEALPRO')\n",
      "Value ({Ticker(contract=Forex('EURUSD', exchange='IDEALPRO'), time=datetime.datetime(2020, 12, 15, 20, 56, 35, 416277, tzinfo=datetime.timezone.utc), bid=1.2158, bidSize=2000000, ask=1.21581, askSize=3000000, high=1.21685, low=1.2121, close=1.2143, halted=0.0, ticks=[TickData(time=datetime.datetime(2020, 12, 15, 20, 56, 35, 416277, tzinfo=datetime.timezone.utc), tickType=1, price=1.2158, size=2000000), TickData(time=datetime.datetime(2020, 12, 15, 20, 56, 35, 416277, tzinfo=datetime.timezone.utc), tickType=2, price=1.21581, size=3000000), TickData(time=datetime.datetime(2020, 12, 15, 20, 56, 35, 416277, tzinfo=datetime.timezone.utc), tickType=6, price=1.21685, size=0), TickData(time=datetime.datetime(2020, 12, 15, 20, 56, 35, 416277, tzinfo=datetime.timezone.utc), tickType=7, price=1.2121, size=0), TickData(time=datetime.datetime(2020, 12, 15, 20, 56, 35, 416277, tzinfo=datetime.timezone.utc), tickType=9, price=1.2143, size=0), TickData(time=datetime.datetime(2020, 12, 15, 20, 56, 35, 416277, tzinfo=datetime.timezone.utc), tickType=49, price=0.0, size=0)])},) caused exception for event Event<pendingTickersEvent, [[None, <weakref at 0x7fc75fe06728; to 'HftModel1' at 0x7fc772892860>, <function HftModel1.on_tick at 0x7fc75fe018c8>]]>\n",
      "Traceback (most recent call last):\n",
      "  File \"/usr/local/lib/python3.6/site-packages/eventkit/event.py\", line 184, in emit\n",
      "    func(obj, *args)\n",
      "  File \"/projects/High-Frequency-Trading-Model-with-IB/models/hft_model_1.py\", line 77, in on_tick\n",
      "    self.perform_trade_logic()\n",
      "  File \"/projects/High-Frequency-Trading-Model-with-IB/models/hft_model_1.py\", line 94, in perform_trade_logic\n",
      "    self.calculate_signals()\n",
      "  File \"/projects/High-Frequency-Trading-Model-with-IB/models/hft_model_1.py\", line 193, in calculate_signals\n",
      "    is_overbought, is_oversold = self.is_overbought_or_oversold()\n",
      "  File \"/projects/High-Frequency-Trading-Model-with-IB/models/hft_model_1.py\", line 207, in is_overbought_or_oversold\n",
      "    last_price_b = self.df_hist[symbol_b].dropna().values[-1]\n",
      "IndexError: index -1 is out of bounds for axis 0 with size 0\n",
      "Value ({Ticker(contract=Forex('EURUSD', exchange='IDEALPRO'), time=datetime.datetime(2020, 12, 15, 20, 56, 35, 468156, tzinfo=datetime.timezone.utc), bid=1.2158, bidSize=3000000, ask=1.21582, askSize=3000000, prevBidSize=2000000, prevAsk=1.21581, high=1.21685, low=1.2121, close=1.2143, halted=0.0, ticks=[TickData(time=datetime.datetime(2020, 12, 15, 20, 56, 35, 468156, tzinfo=datetime.timezone.utc), tickType=2, price=1.21582, size=3000000), TickData(time=datetime.datetime(2020, 12, 15, 20, 56, 35, 468156, tzinfo=datetime.timezone.utc), tickType=0, price=1.2158, size=3000000), TickData(time=datetime.datetime(2020, 12, 15, 20, 56, 35, 468156, tzinfo=datetime.timezone.utc), tickType=49, price=0.0, size=0)])},) caused exception for event Event<pendingTickersEvent, [[None, <weakref at 0x7fc75fe06728; to 'HftModel1' at 0x7fc772892860>, <function HftModel1.on_tick at 0x7fc75fe018c8>]]>\n",
      "Traceback (most recent call last):\n",
      "  File \"/usr/local/lib/python3.6/site-packages/eventkit/event.py\", line 184, in emit\n",
      "    func(obj, *args)\n",
      "  File \"/projects/High-Frequency-Trading-Model-with-IB/models/hft_model_1.py\", line 77, in on_tick\n",
      "    self.perform_trade_logic()\n",
      "  File \"/projects/High-Frequency-Trading-Model-with-IB/models/hft_model_1.py\", line 94, in perform_trade_logic\n",
      "    self.calculate_signals()\n",
      "  File \"/projects/High-Frequency-Trading-Model-with-IB/models/hft_model_1.py\", line 193, in calculate_signals\n",
      "    is_overbought, is_oversold = self.is_overbought_or_oversold()\n",
      "  File \"/projects/High-Frequency-Trading-Model-with-IB/models/hft_model_1.py\", line 207, in is_overbought_or_oversold\n",
      "    last_price_b = self.df_hist[symbol_b].dropna().values[-1]\n",
      "IndexError: index -1 is out of bounds for axis 0 with size 0\n",
      "[2020-12-15 20:56:36][account]EURUSD pos=100.0 avgPrice=1.2409|USDJPY pos=-100.0|rpnl=-10.56 upnl=-5.02|beta:nan volatility:nan\n",
      "[2020-12-15 20:56:37][account]EURUSD pos=100.0 avgPrice=1.2409|USDJPY pos=-100.0|rpnl=-10.56 upnl=-5.02|beta:nan volatility:nan\n",
      "[2020-12-15 20:56:38][account]EURUSD pos=100.0 avgPrice=1.2409|USDJPY pos=-100.0|rpnl=-10.56 upnl=-5.02|beta:nan volatility:nan\n",
      "[2020-12-15 20:56:40][account]EURUSD pos=100.0 avgPrice=1.2409|USDJPY pos=-100.0|rpnl=-10.56 upnl=-5.02|beta:nan volatility:nan\n",
      "[2020-12-15 20:56:41][account]EURUSD pos=100.0 avgPrice=1.2409|USDJPY pos=-100.0|rpnl=-10.56 upnl=-5.02|beta:nan volatility:nan\n",
      "[2020-12-15 20:56:43][account]EURUSD pos=100.0 avgPrice=1.2409|USDJPY pos=-100.0|rpnl=-10.56 upnl=-5.02|beta:nan volatility:nan\n",
      "[2020-12-15 20:56:44][account]EURUSD pos=100.0 avgPrice=1.2409|USDJPY pos=-100.0|rpnl=-10.56 upnl=-5.02|beta:nan volatility:nan\n",
      "[2020-12-15 20:56:45][account]EURUSD pos=100.0 avgPrice=1.2409|USDJPY pos=-100.0|rpnl=-10.56 upnl=-5.02|beta:nan volatility:nan\n",
      "[2020-12-15 20:56:46][account]EURUSD pos=100.0 avgPrice=1.2409|USDJPY pos=-100.0|rpnl=-10.56 upnl=-5.02|beta:nan volatility:nan\n",
      "[2020-12-15 20:56:48][account]EURUSD pos=100.0 avgPrice=1.2409|USDJPY pos=-100.0|rpnl=-10.56 upnl=-5.02|beta:nan volatility:nan\n",
      "[2020-12-15 20:56:49][account]EURUSD pos=100.0 avgPrice=1.2409|USDJPY pos=-100.0|rpnl=-10.56 upnl=-5.02|beta:nan volatility:nan\n",
      "[2020-12-15 20:56:51][account]EURUSD pos=100.0 avgPrice=1.2409|USDJPY pos=-100.0|rpnl=-10.56 upnl=-5.02|beta:nan volatility:nan\n",
      "[2020-12-15 20:56:53][account]EURUSD pos=100.0 avgPrice=1.2409|USDJPY pos=-100.0|rpnl=-10.56 upnl=-5.02|beta:nan volatility:nan\n",
      "[2020-12-15 20:56:54][account]EURUSD pos=100.0 avgPrice=1.2409|USDJPY pos=-100.0|rpnl=-10.56 upnl=-5.02|beta:nan volatility:nan\n",
      "[2020-12-15 20:56:56][account]EURUSD pos=100.0 avgPrice=1.2409|USDJPY pos=-100.0|rpnl=-10.56 upnl=-5.02|beta:nan volatility:nan\n",
      "[2020-12-15 20:56:57][account]EURUSD pos=100.0 avgPrice=1.2409|USDJPY pos=-100.0|rpnl=-10.56 upnl=-5.02|beta:nan volatility:nan\n",
      "[2020-12-15 20:56:59][account]EURUSD pos=100.0 avgPrice=1.2409|USDJPY pos=-100.0|rpnl=-10.56 upnl=-5.02|beta:nan volatility:nan\n",
      "[2020-12-15 20:57:00][account]EURUSD pos=100.0 avgPrice=1.2409|USDJPY pos=-100.0|rpnl=-10.56 upnl=-5.02|beta:nan volatility:nan\n",
      "[2020-12-15 20:57:01][account]EURUSD pos=100.0 avgPrice=1.2409|USDJPY pos=-100.0|rpnl=-10.56 upnl=-5.02|beta:nan volatility:nan\n",
      "[2020-12-15 20:57:02][account]EURUSD pos=100.0 avgPrice=1.2409|USDJPY pos=-100.0|rpnl=-10.56 upnl=-5.02|beta:nan volatility:nan\n",
      "[2020-12-15 20:57:04][account]EURUSD pos=100.0 avgPrice=1.2409|USDJPY pos=-100.0|rpnl=-10.56 upnl=-5.02|beta:nan volatility:nan\n",
      "[2020-12-15 20:57:06][account]EURUSD pos=100.0 avgPrice=1.2409|USDJPY pos=-100.0|rpnl=-10.56 upnl=-5.02|beta:nan volatility:nan\n",
      "[2020-12-15 20:57:08][account]EURUSD pos=100.0 avgPrice=1.2409|USDJPY pos=-100.0|rpnl=-10.56 upnl=-5.02|beta:nan volatility:nan\n"
     ]
    }
   ],
   "source": [
    "!python main.py"
   ]
  },
  {
   "cell_type": "code",
   "execution_count": null,
   "metadata": {},
   "outputs": [],
   "source": []
  }
 ],
 "metadata": {
  "kernelspec": {
   "display_name": "Python 3",
   "language": "python",
   "name": "python3"
  },
  "language_info": {
   "codemirror_mode": {
    "name": "ipython",
    "version": 3
   },
   "file_extension": ".py",
   "mimetype": "text/x-python",
   "name": "python",
   "nbconvert_exporter": "python",
   "pygments_lexer": "ipython3",
   "version": "3.6.6"
  }
 },
 "nbformat": 4,
 "nbformat_minor": 4
}
